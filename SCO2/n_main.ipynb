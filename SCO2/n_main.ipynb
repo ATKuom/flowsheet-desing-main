{
 "cells": [
  {
   "cell_type": "code",
   "execution_count": 1,
   "id": "4d78dae6",
   "metadata": {},
   "outputs": [
    {
     "name": "stdout",
     "output_type": "stream",
     "text": [
      "Working Directory: c:\\Users\\m85830ak\\Python\\flowsheet-desing-main\n",
      "Aspen File: base.bkp\n"
     ]
    }
   ],
   "source": [
    "import os\n",
    "import win32com.client as win32\n",
    "from env import Flowsheet\n",
    "from Simulation import *\n",
    "\n",
    "cwd = os.getcwd() # get current working directory\n",
    "os.chdir(cwd) # change to the directory where the script is located\n",
    "sim = Simulation(\"base.bkp\",cwd,True) # create the base case of the simulation\n",
    "env_kwargs = {\n",
    "        \"sim\": sim,\n",
    "        \"pure\": 0.99, \n",
    "        \"max_iter\": 15, \n",
    "        \"inlet_specs\": [[298, 2.4, {\"EO\": 0.0, \"W\": 26.31, \"EG\": 0.0, \"DEG\": 0.0}],[298, 2.4, {\"EO\": 27.62, \"W\": 0.0, \"EG\": 0.0, \"DEG\": 0.0}],\n",
    "                        [360.27,2.4,{\"EO\": 0.86483855131462, \"W\": 521.25960426966, \"EG\": 0.253500051247613, \"DEG\": 1.05869515878343E-07}],\n",
    "        ]\n",
    "}\n",
    "\n",
    "env = Flowsheet(**env_kwargs) # create a flowsheet instance"
   ]
  },
  {
   "cell_type": "code",
   "execution_count": 2,
   "id": "22371e5f",
   "metadata": {},
   "outputs": [],
   "source": [
    "sim.CloseAspen()"
   ]
  },
  {
   "cell_type": "code",
   "execution_count": 10,
   "id": "09485a7d",
   "metadata": {},
   "outputs": [],
   "source": [
    "#without recycle\n",
    "observations = []\n",
    "state,sin = env.reset() # reset the environment to its initial state\n",
    "observations.append(state) # append the initial state to the observations list\n",
    "action =[0,0]\n",
    "state,reward,done,info,sin = env.step(action,sin)\n",
    "observations.append(state)\n",
    "action = [1,355]\n",
    "state,reward,done,info,sin = env.step(action,sin)\n",
    "observations.append(state)\n",
    "action = [4,3.75]\n",
    "for i in range(9):\n",
    "    state,reward,done,info,sin = env.step(action,sin)\n",
    "    observations.append(state)\n",
    "action = [3,398]\n",
    "state,reward,done,info,sin = env.step(action,sin)\n",
    "observations.append(state)\n",
    "action = [6, 0.71] # without recycle\n",
    "state,reward,done,info,sin = env.step(action,sin)\n",
    "observations.append(state)\n",
    "action = [2,2.4]\n",
    "state,reward,done,info,sin = env.step(action,sin)\n",
    "observations.append(state)\n"
   ]
  },
  {
   "cell_type": "code",
   "execution_count": 2,
   "id": "dc51fd29",
   "metadata": {},
   "outputs": [],
   "source": [
    "#with recycle\n",
    "env_kwargs = {\n",
    "        \"sim\": sim,\n",
    "        \"pure\": 0.99, \n",
    "        \"max_iter\": 15, \n",
    "        \"inlet_specs\": [[298, 2.4, {\"EO\": 0.0, \"W\": 26.31, \"EG\": 0.0, \"DEG\": 0.0}],[298, 2.4, {\"EO\": 27.62, \"W\": 0.0, \"EG\": 0.0, \"DEG\": 0.0}],\n",
    "        ]\n",
    "}\n",
    "\n",
    "env = Flowsheet(**env_kwargs) # create a flowsheet instance\n",
    "observations = []\n",
    "state,sin = env.reset() # reset the environment to its initial state\n",
    "observations.append(state) # append the initial state to the observations list\n",
    "action =[0,0]\n",
    "state,reward,done,info,sin = env.step(action,sin)\n",
    "observations.append(state)\n",
    "action = [1,355]\n",
    "state,reward,done,info,sin = env.step(action,sin)\n",
    "observations.append(state)\n",
    "action = [4,3.75]\n",
    "for i in range(9):\n",
    "    state,reward,done,info,sin = env.step(action,sin)\n",
    "    observations.append(state)\n",
    "action = [3,398]\n",
    "state,reward,done,info,sin = env.step(action,sin)\n",
    "observations.append(state)\n",
    "action = [7, 0.71] # with recycle\n",
    "state,reward,done,info,sin = env.step(action,sin)\n",
    "observations.append(state)"
   ]
  },
  {
   "cell_type": "code",
   "execution_count": 3,
   "id": "427ef143",
   "metadata": {},
   "outputs": [],
   "source": [
    "observations = []\n",
    "state,sin = env.reset() # reset the environment to its initial state\n",
    "observations.append(state) # append the initial state to the observations list\n",
    "action =[0,0]\n",
    "state,reward,done,info,sin = env.step(action,sin)\n",
    "observations.append(state)\n",
    "action = [1,355]\n",
    "state,reward,done,info,sin = env.step(action,sin)\n",
    "observations.append(state)\n",
    "action = [5,8]\n",
    "state,reward,done,info,sin = env.step(action,sin)\n",
    "action = [3,398]\n",
    "state,reward,done,info,sin = env.step(action,sin)\n",
    "observations.append(state)\n",
    "action = [7, 0.71] # with recycle\n",
    "state,reward,done,info,sin = env.step(action,sin)\n",
    "observations.append(state)\n"
   ]
  },
  {
   "cell_type": "code",
   "execution_count": 4,
   "id": "f0cff957",
   "metadata": {},
   "outputs": [],
   "source": [
    "env.sim.EngineReinit() # reinitialize the simulation engine\n",
    "env.sim.EngineRun() # run the simulation engine"
   ]
  },
  {
   "cell_type": "code",
   "execution_count": 5,
   "id": "ea299aaa",
   "metadata": {},
   "outputs": [
    {
     "name": "stdout",
     "output_type": "stream",
     "text": [
      "Observations:\n",
      "Step 0: [[298.    2.4   0.    1.    0.    0.    0. ]\n",
      " [298.    2.4   1.    0.    0.    0.    0. ]]\n",
      "Step 1: [298.     2.4    0.51   0.49   0.     0.     0.07]\n",
      "Step 2: [355.     2.4    0.51   0.49   0.     0.     0.13]\n",
      "Step 3: [355.     2.4    0.51   0.49   0.     0.     0.13]\n",
      "Step 4: [355.     2.4    0.51   0.49   0.     0.     0.13]\n",
      "Final reward: -8\n",
      "Final done: True\n",
      "Final info: {'M1': [297.999988, 2.4, 27.62, 26.31, 0.0, 0.0], 'HX1': [355, [355.0, 2.4, 27.62, 26.31, 0.0, 0.0]]}\n"
     ]
    }
   ],
   "source": [
    "#print observations in a readable format\n",
    "with np.printoptions(precision=2, suppress=True):\n",
    "    print(\"Observations:\")\n",
    "    for i, obs in enumerate(observations):\n",
    "        print(f\"Step {i}: {obs}\")\n",
    "    print(\"Final reward:\", reward)\n",
    "    print(\"Final done:\", done)\n",
    "    print(\"Final info:\", info)\n",
    "    "
   ]
  },
  {
   "cell_type": "code",
   "execution_count": 7,
   "id": "437ad477",
   "metadata": {},
   "outputs": [
    {
     "ename": "com_error",
     "evalue": "(-2147023174, 'The RPC server is unavailable.', None, None)",
     "output_type": "error",
     "traceback": [
      "\u001b[31m---------------------------------------------------------------------------\u001b[39m",
      "\u001b[31mcom_error\u001b[39m                                 Traceback (most recent call last)",
      "\u001b[36mCell\u001b[39m\u001b[36m \u001b[39m\u001b[32mIn[7]\u001b[39m\u001b[32m, line 1\u001b[39m\n\u001b[32m----> \u001b[39m\u001b[32m1\u001b[39m \u001b[43msim\u001b[49m\u001b[43m.\u001b[49m\u001b[43mCloseAspen\u001b[49m\u001b[43m(\u001b[49m\u001b[43m)\u001b[49m \u001b[38;5;66;03m# close the Aspen simulation\u001b[39;00m\n",
      "\u001b[36mFile \u001b[39m\u001b[32mc:\\Users\\m85830ak\\Python\\flowsheet-desing-main\\Simulation.py:23\u001b[39m, in \u001b[36mSimulation.CloseAspen\u001b[39m\u001b[34m(self)\u001b[39m\n\u001b[32m     22\u001b[39m \u001b[38;5;28;01mdef\u001b[39;00m\u001b[38;5;250m \u001b[39m\u001b[34mCloseAspen\u001b[39m(\u001b[38;5;28mself\u001b[39m):\n\u001b[32m---> \u001b[39m\u001b[32m23\u001b[39m     AspenFileName = \u001b[38;5;28;43mself\u001b[39;49m\u001b[43m.\u001b[49m\u001b[43mGive_AspenDocumentName\u001b[49m\u001b[43m(\u001b[49m\u001b[43m)\u001b[49m\n\u001b[32m     24\u001b[39m     \u001b[38;5;28mself\u001b[39m.AspenSimulation.Close(os.path.abspath(AspenFileName))\n",
      "\u001b[36mFile \u001b[39m\u001b[32mc:\\Users\\m85830ak\\Python\\flowsheet-desing-main\\Simulation.py:27\u001b[39m, in \u001b[36mSimulation.Give_AspenDocumentName\u001b[39m\u001b[34m(self)\u001b[39m\n\u001b[32m     26\u001b[39m \u001b[38;5;28;01mdef\u001b[39;00m\u001b[38;5;250m \u001b[39m\u001b[34mGive_AspenDocumentName\u001b[39m(\u001b[38;5;28mself\u001b[39m):\n\u001b[32m---> \u001b[39m\u001b[32m27\u001b[39m     \u001b[38;5;28;01mreturn\u001b[39;00m \u001b[38;5;28;43mself\u001b[39;49m\u001b[43m.\u001b[49m\u001b[43mAspenSimulation\u001b[49m\u001b[43m.\u001b[49m\u001b[43mFullName\u001b[49m\n",
      "\u001b[36mFile \u001b[39m\u001b[32mc:\\Users\\m85830ak\\Python\\flowsheet-desing-main\\.venv\\Lib\\site-packages\\win32com\\client\\__init__.py:590\u001b[39m, in \u001b[36mDispatchBaseClass.__getattr__\u001b[39m\u001b[34m(self, attr)\u001b[39m\n\u001b[32m    588\u001b[39m \u001b[38;5;28;01mif\u001b[39;00m args \u001b[38;5;129;01mis\u001b[39;00m \u001b[38;5;28;01mNone\u001b[39;00m:\n\u001b[32m    589\u001b[39m     \u001b[38;5;28;01mraise\u001b[39;00m \u001b[38;5;167;01mAttributeError\u001b[39;00m(\u001b[33mf\u001b[39m\u001b[33m\"\u001b[39m\u001b[33m'\u001b[39m\u001b[38;5;132;01m{\u001b[39;00m\u001b[38;5;28mself\u001b[39m\u001b[38;5;132;01m!r}\u001b[39;00m\u001b[33m'\u001b[39m\u001b[33m object has no attribute \u001b[39m\u001b[33m'\u001b[39m\u001b[38;5;132;01m{\u001b[39;00mattr\u001b[38;5;132;01m}\u001b[39;00m\u001b[33m'\u001b[39m\u001b[33m\"\u001b[39m)\n\u001b[32m--> \u001b[39m\u001b[32m590\u001b[39m \u001b[38;5;28;01mreturn\u001b[39;00m \u001b[38;5;28;43mself\u001b[39;49m\u001b[43m.\u001b[49m\u001b[43m_ApplyTypes_\u001b[49m\u001b[43m(\u001b[49m\u001b[43m*\u001b[49m\u001b[43margs\u001b[49m\u001b[43m)\u001b[49m\n",
      "\u001b[36mFile \u001b[39m\u001b[32mc:\\Users\\m85830ak\\Python\\flowsheet-desing-main\\.venv\\Lib\\site-packages\\win32com\\client\\__init__.py:581\u001b[39m, in \u001b[36mDispatchBaseClass._ApplyTypes_\u001b[39m\u001b[34m(self, dispid, wFlags, retType, argTypes, user, resultCLSID, *args)\u001b[39m\n\u001b[32m    579\u001b[39m \u001b[38;5;28;01mdef\u001b[39;00m\u001b[38;5;250m \u001b[39m\u001b[34m_ApplyTypes_\u001b[39m(\u001b[38;5;28mself\u001b[39m, dispid, wFlags, retType, argTypes, user, resultCLSID, *args):\n\u001b[32m    580\u001b[39m     \u001b[38;5;28;01mreturn\u001b[39;00m \u001b[38;5;28mself\u001b[39m._get_good_object_(\n\u001b[32m--> \u001b[39m\u001b[32m581\u001b[39m         \u001b[38;5;28;43mself\u001b[39;49m\u001b[43m.\u001b[49m\u001b[43m_oleobj_\u001b[49m\u001b[43m.\u001b[49m\u001b[43mInvokeTypes\u001b[49m\u001b[43m(\u001b[49m\u001b[43mdispid\u001b[49m\u001b[43m,\u001b[49m\u001b[43m \u001b[49m\u001b[32;43m0\u001b[39;49m\u001b[43m,\u001b[49m\u001b[43m \u001b[49m\u001b[43mwFlags\u001b[49m\u001b[43m,\u001b[49m\u001b[43m \u001b[49m\u001b[43mretType\u001b[49m\u001b[43m,\u001b[49m\u001b[43m \u001b[49m\u001b[43margTypes\u001b[49m\u001b[43m,\u001b[49m\u001b[43m \u001b[49m\u001b[43m*\u001b[49m\u001b[43margs\u001b[49m\u001b[43m)\u001b[49m,\n\u001b[32m    582\u001b[39m         user,\n\u001b[32m    583\u001b[39m         resultCLSID,\n\u001b[32m    584\u001b[39m     )\n",
      "\u001b[31mcom_error\u001b[39m: (-2147023174, 'The RPC server is unavailable.', None, None)"
     ]
    }
   ],
   "source": [
    "sim.CloseAspen() # close the Aspen simulation"
   ]
  }
 ],
 "metadata": {
  "kernelspec": {
   "display_name": ".venv",
   "language": "python",
   "name": "python3"
  },
  "language_info": {
   "codemirror_mode": {
    "name": "ipython",
    "version": 3
   },
   "file_extension": ".py",
   "mimetype": "text/x-python",
   "name": "python",
   "nbconvert_exporter": "python",
   "pygments_lexer": "ipython3",
   "version": "3.11.9"
  }
 },
 "nbformat": 4,
 "nbformat_minor": 5
}

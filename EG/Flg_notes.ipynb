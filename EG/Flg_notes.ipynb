{
 "cells": [
  {
   "cell_type": "code",
   "execution_count": 1,
   "id": "15b940ec",
   "metadata": {},
   "outputs": [],
   "source": [
    "import numpy as np\n",
    "# #Synthetic data generator\n",
    "# min_length = 10\n",
    "# max_length = 30\n",
    "# N = 1000000\n",
    "# # Generate synthetic data\n",
    "# synthetic_data = []\n",
    "# failed_attempts = []\n",
    "# np.random.seed(42)  # For reproducibility\n",
    "# main_branch_eq = basic_equipment+ [1,2,10,11,15,16,17]\n",
    "# for _ in range(N):\n",
    "#     total_length = np.random.randint(min_length, max_length)-3\n",
    "#     equipment = np.random.choice(main_branch_eq, size=total_length, replace=True).tolist()\n",
    "#     equipment.insert(0, 0)  # Feed\n",
    "#     equipment.insert(np.random.randint(1, total_length+2), 14)  # Product\n",
    "#     equipment.append(len(equipment_dict) - 1)  # End  \n",
    "#     try:\n",
    "#         connectivity(equipment, equipment_dict, max_length)\n",
    "#         synthetic_data.append(equipment)\n",
    "#     except ValueError as e:\n",
    "#         failed_attempts.append((equipment, str(e)))\n",
    "# print(f\"Generated {len(synthetic_data)} valid synthetic configurations.\")\n",
    "# for i in range(len(synthetic_data)):\n",
    "#     print(f\"{i+1}: {(equipment_to_string(synthetic_data[i]))}\")\n",
    "\n",
    "synthetic_data = np.load('synthetic_data1.npy', allow_pickle=True)\n",
    "failed_attempts = np.load('failed_attempts1.npy', allow_pickle=True)"
   ]
  },
  {
   "cell_type": "code",
   "execution_count": 6,
   "id": "05e65d37",
   "metadata": {},
   "outputs": [
    {
     "name": "stdout",
     "output_type": "stream",
     "text": [
      "107 999893 0.000107\n",
      "Error: The product equipment must be followed by a subbranch 1 starter, minor feed token or end token. {759410}\n",
      "Error: The number of subbranch starter tokens must match the number of multiple input/output equipment tokens. {100388}\n",
      "Error: The product equipment must not be the second equipment in the list. {61019}\n",
      "Error: The same equipment cannot be used thrice consecutively. {60190}\n",
      "Error: The number of subbranch starters must match the number of subbranch ends. {14400}\n",
      "Error: The number of subbranch starters must match the number of subbranch connectors. {3185}\n",
      "Error: Subbranch end must come after the corresponding subbranch starter. {485}\n",
      "Error: Subbranch connectors must be followed by a mixer. {396}\n",
      "Error: Subbranch starter tokens must be unique. {221}\n",
      "Error: Mixer must be preceded by a subbranch connector. {199}\n"
     ]
    }
   ],
   "source": [
    "print(len(synthetic_data), len(failed_attempts), len(synthetic_data)/(len(synthetic_data) + len(failed_attempts)))\n",
    "error_messages = {}\n",
    "for equipment, error in failed_attempts:\n",
    "    if error not in error_messages:\n",
    "        error_messages[error] = []\n",
    "    error_messages[error].append(equipment)\n",
    "error_messages = {k: v for k, v in sorted(error_messages.items(), key=lambda item: len(item[1]), reverse=True)}\n",
    "for error, equipments in error_messages.items():\n",
    "    print(f\"Error: {error}\", {len(equipments)})\n",
    "    # for i in range(min(5, len(equipments))):\n",
    "    #     print(f\"  Equipment: {string_to_simplestring(equipment_to_string(equipments[i]))}\")"
   ]
  }
 ],
 "metadata": {
  "kernelspec": {
   "display_name": ".venv",
   "language": "python",
   "name": "python3"
  },
  "language_info": {
   "codemirror_mode": {
    "name": "ipython",
    "version": 3
   },
   "file_extension": ".py",
   "mimetype": "text/x-python",
   "name": "python",
   "nbconvert_exporter": "python",
   "pygments_lexer": "ipython3",
   "version": "3.11.9"
  }
 },
 "nbformat": 4,
 "nbformat_minor": 5
}
